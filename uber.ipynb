{
 "cells": [
  {
   "cell_type": "code",
   "execution_count": 1,
   "metadata": {},
   "outputs": [],
   "source": [
    "import requests\n",
    "\n",
    "import json"
   ]
  },
  {
   "cell_type": "code",
   "execution_count": 2,
   "metadata": {},
   "outputs": [],
   "source": [
    "s = requests.Session()"
   ]
  },
  {
   "cell_type": "code",
   "execution_count": 3,
   "metadata": {},
   "outputs": [],
   "source": [
    "start_headers = {\n",
    "\"accept\": \"text/html,application/xhtml+xml,application/xml;q=0.9,image/webp,image/apng,*/*;q=0.8,application/signed-exchange;v=b3;q=0.9\",\n",
    "\"accept-encoding\": \"gzip, deflate, br\",\n",
    "\"accept-language\": \"en-US,en;q=0.9,zh-CN;q=0.8,zh;q=0.7\",\n",
    "\"dnt\": \"1\",\n",
    "\"sec-fetch-dest\": \"document\",\n",
    "\"sec-fetch-mode\": \"navigate\",\n",
    "\"sec-fetch-site\": \"none\",\n",
    "\"upgrade-insecure-requests\": \"1\",\n",
    "\"user-agent\": \"Mozilla/5.0 (Macintosh; Intel Mac OS X 10_14_6) AppleWebKit/537.36 (KHTML, like Gecko) Chrome/83.0.4103.61 Safari/537.36\",\n",
    "}"
   ]
  },
  {
   "cell_type": "code",
   "execution_count": 6,
   "metadata": {},
   "outputs": [],
   "source": [
    "resp = s.get(\n",
    "    \"https://www.uber.com/us/en/price-estimate/\",\n",
    "    headers=start_headers,\n",
    ")\n",
    "assert resp.status_code == 200\n"
   ]
  },
  {
   "cell_type": "code",
   "execution_count": 7,
   "metadata": {},
   "outputs": [],
   "source": [
    "url = 'https://www.uber.com/api/loadFEEstimates'"
   ]
  },
  {
   "cell_type": "code",
   "execution_count": 8,
   "metadata": {},
   "outputs": [],
   "source": [
    "# need to change,\n",
    "# since you have static origin and destination, you just grab it from chrome Inspect\n",
    "payload = '''{\"origin\":{\"id\":\"ChIJhRwB-yFawokRi0AhGH87UTc\",\"provider\":\"google_places\",\"locale\":\"en\",\"latitude\":40.75272619999999,\"longitude\":-73.9772294},\"destination\":{\"id\":\"ChIJ-4MbiBlawokR5ixJ4E8Km5c\",\"provider\":\"google_places\",\"locale\":\"en\",\"latitude\":40.7118011,\"longitude\":-74.0131196},\"locale\":\"en\"}'''"
   ]
  },
  {
   "cell_type": "code",
   "execution_count": 9,
   "metadata": {},
   "outputs": [],
   "source": [
    "extra_headers = {\n",
    "    \"content-length\": \"293\",\n",
    "    \"content-type\": \"application/json\",\n",
    "    \"x-csrf-token\": \"x\",\n",
    "    \"origin\": \"https://www.uber.com\",\n",
    "    \"referer\": \"https://www.uber.com/us/en/price-estimate/\",\n",
    "    \"sec-fetch-dest\": \"empty\",\n",
    "    \"sec-fetch-mode\": \"cors\",\n",
    "    \"sec-fetch-site\": \"same-origin\",\n",
    "}"
   ]
  },
  {
   "cell_type": "code",
   "execution_count": 10,
   "metadata": {},
   "outputs": [],
   "source": [
    "resp2 = s.post(url, data=payload, headers={**s.headers, **extra_headers})\n",
    "assert resp2.status_code == 200"
   ]
  },
  {
   "cell_type": "code",
   "execution_count": 11,
   "metadata": {},
   "outputs": [
    {
     "name": "stdout",
     "output_type": "stream",
     "text": [
      "{'status': 'success', 'data': {'cityId': 5, 'cityName': 'New York City', 'prices': [{'iso2': 'US', 'vehicleViewDisplayName': 'Pool - Unavailable', 'vehicleViewId': 2083, 'fare': {'autoOrManual': 'auto', 'calculationType': 'time_plus_distance', 'speedThresholdMps': 10, 'allowFareEstimate': False, 'tollsApply': True, 'gratuityAccepted': False, 'roundDown': False, 'flagThreshold': 400, 'minimum': 7.19, 'base': 0, 'perMinute': 0.67, 'uberServicePercent': 0.25, 'cancellation': 5, 'safeRideFee': 0, 'bookingFee': 0, 'serviceFeePercent': 0, 'perWaitMinute': '', 'riderCancellation': 2, 'riderCancellationEnabled': False, 'perAdditionalPoolChainPickup': 0.75, 'fareUnavailable': False, 'baseTimeMinutes': 30, 'outOfServiceAreaFee': 25, 'inNoParkingZoneFee': 5, 'freeLockFee': 10, 'privatePropertyLockFee': 10, 'lostLockFee': 25, 'stolenVehicleFee': 50, 'reservationFee': 0, 'fareType': 'time_plus_distance', 'isDistanceUnitMetric': False, 'perDistanceUnit': 1.48}, 'capacity': 1, 'currencyCode': 'USD', 'currencyLocale': 'en', 'advancedFare': {'enrouteFareEnabled': True, 'enrouteReverseFallbackScalar': 1.2, 'enroutePerMinute': 0.67, 'enrouteFareCap': 20, 'cancellationV2Enabled': True, 'cancellationGracePeriodThresholdSec': 60, 'cancellationGracePeriodLimitingEnabled': True, 'cancellationGracePeriodLimit': 1, 'driverCancelTimeThresholdSec': 120, 'minCancellation': 5, 'cancellationCap': 20, 'minDriverCancellation': 5, 'riderRemotePickupFareKickoffTimeThresholdSec': 440, 'timeAndDistanceBasedCancelEnabled': True, 'enrouteFeeCoupledTiers': None, 'enroutePerDistanceUnit': 1.48, 'kickoffThresholdMins': '9.00'}, 'taxiFareInfo': None, 'tripTime': {'chargeForWaitTimeEnabled': None, 'waitTimeThresholdSec': 120}, 'isCoupledUFP': False, 'total': 22.51, 'min': None, 'fareString': '$22.51', 'fareType': 'upfront_estimate', 'legalDisclaimer': 'You agree to pay the upfront price shown at booking. The upfront price is calculated using the base rate, plus the per-minute rate and/or per-mile rate. It may be adjusted due to <a href=\"https://www.uber.com/us/en/price-estimate/marketplace-factors/\">marketplace factors</a>, promotions, and/or other discounts, and includes <a href=\"https://www.uber.com/us/en/price-estimate/prices-explained/ \">applicable taxes, fees, surcharges and estimated tolls</a>. Additional charges, such as a wait-time fee, may be added to your upfront price. If the length or route of your trip changes, your upfront price may change based on the rates above and other applicable taxes, tolls, fees, and surcharges. Rates shown are rounded to 2 decimal points, while actual rates are set at 4 decimal points. In the US: rates used to calculate driver fares are published at  <a href=\"https://partners.uber.com\">partners.uber.com</a> and require an active partner account to view.<br>\\nAdditional surcharges may be applied when Uber Assist is requested from Uber Central or Uber Health dashboards.', 'locationSpecificDisclaimer': '', 'singleLocationSpecificDisclaimer': ''}, {'iso2': 'US', 'vehicleViewDisplayName': 'UberX', 'vehicleViewId': 39, 'fare': {'autoOrManual': 'auto', 'calculationType': 'time_plus_distance', 'speedThresholdMps': 0, 'allowFareEstimate': True, 'tollsApply': True, 'gratuityAccepted': False, 'roundDown': False, 'flagThreshold': 600, 'minimum': 7.19, 'base': 0, 'perMinute': 0.67, 'uberServicePercent': 0.25, 'cancellation': 5, 'safeRideFee': 0, 'bookingFee': 0, 'serviceFeePercent': 0, 'perWaitMinute': 0.67, 'riderCancellation': 2, 'riderCancellationEnabled': False, 'perAdditionalPoolChainPickup': None, 'fareUnavailable': False, 'baseTimeMinutes': 30, 'outOfServiceAreaFee': 25, 'inNoParkingZoneFee': 5, 'freeLockFee': 10, 'privatePropertyLockFee': 10, 'lostLockFee': 25, 'stolenVehicleFee': 50, 'reservationFee': 0, 'fareType': 'time_plus_distance', 'isDistanceUnitMetric': False, 'perDistanceUnit': 1.48}, 'capacity': 1, 'currencyCode': 'USD', 'currencyLocale': 'en', 'advancedFare': {'enrouteFareEnabled': True, 'enrouteReverseFallbackScalar': 1.2, 'enroutePerMinute': 0.67, 'enrouteFareCap': 20, 'cancellationV2Enabled': True, 'cancellationGracePeriodThresholdSec': 120, 'cancellationGracePeriodLimitingEnabled': False, 'cancellationGracePeriodLimit': 2, 'driverCancelTimeThresholdSec': 300, 'minCancellation': 5, 'cancellationCap': 20, 'minDriverCancellation': 5, 'riderRemotePickupFareKickoffTimeThresholdSec': 440, 'timeAndDistanceBasedCancelEnabled': True, 'enrouteFeeCoupledTiers': None, 'enroutePerDistanceUnit': 1.48, 'kickoffThresholdMins': '9.00'}, 'taxiFareInfo': None, 'tripTime': {'chargeForWaitTimeEnabled': True, 'waitTimeThresholdSec': 120}, 'isCoupledUFP': False, 'total': 26.11, 'min': None, 'fareString': '$26.11', 'fareType': 'upfront_estimate', 'legalDisclaimer': 'You agree to pay the upfront price shown at booking. The upfront price is calculated using the base rate, plus the per-minute rate and/or per-mile rate. It may be adjusted due to <a href=\"https://www.uber.com/us/en/price-estimate/marketplace-factors/\">marketplace factors</a>, promotions, and/or other discounts, and includes <a href=\"https://www.uber.com/us/en/price-estimate/prices-explained/ \">applicable taxes, fees, surcharges and estimated tolls</a>. Additional charges, such as a wait-time fee, may be added to your upfront price. If the length or route of your trip changes, your upfront price may change based on the rates above and other applicable taxes, tolls, fees, and surcharges. Rates shown are rounded to 2 decimal points, while actual rates are set at 4 decimal points. In the US: rates used to calculate driver fares are published at  <a href=\"https://partners.uber.com\">partners.uber.com</a> and require an active partner account to view.<br>\\nAdditional surcharges may be applied when Uber Assist is requested from Uber Central or Uber Health dashboards.', 'locationSpecificDisclaimer': '', 'singleLocationSpecificDisclaimer': ''}, {'iso2': 'US', 'vehicleViewDisplayName': 'WAV', 'vehicleViewId': 10000936, 'fare': {'autoOrManual': 'auto', 'calculationType': 'time_plus_distance', 'speedThresholdMps': 0, 'allowFareEstimate': True, 'tollsApply': True, 'gratuityAccepted': False, 'roundDown': False, 'flagThreshold': 400, 'minimum': 7.19, 'base': 0, 'perMinute': 0.67, 'uberServicePercent': 0.03, 'cancellation': 5, 'safeRideFee': 0, 'bookingFee': 0, 'serviceFeePercent': 0, 'perWaitMinute': '', 'riderCancellation': 2, 'riderCancellationEnabled': False, 'perAdditionalPoolChainPickup': None, 'fareUnavailable': False, 'baseTimeMinutes': 30, 'outOfServiceAreaFee': 25, 'inNoParkingZoneFee': 5, 'freeLockFee': 10, 'privatePropertyLockFee': 10, 'lostLockFee': 25, 'stolenVehicleFee': 50, 'reservationFee': 0, 'fareType': 'time_plus_distance', 'isDistanceUnitMetric': False, 'perDistanceUnit': 1.48}, 'capacity': 1, 'currencyCode': 'USD', 'currencyLocale': 'en', 'advancedFare': {'enrouteFareEnabled': False, 'enrouteReverseFallbackScalar': None, 'enroutePerMinute': 0, 'enrouteFareCap': None, 'cancellationV2Enabled': True, 'cancellationGracePeriodThresholdSec': 300, 'cancellationGracePeriodLimitingEnabled': False, 'cancellationGracePeriodLimit': 2, 'driverCancelTimeThresholdSec': 300, 'minCancellation': 5, 'cancellationCap': 5, 'minDriverCancellation': 5, 'riderRemotePickupFareKickoffTimeThresholdSec': None, 'timeAndDistanceBasedCancelEnabled': False, 'enrouteFeeCoupledTiers': None, 'enroutePerDistanceUnit': 0, 'kickoffThresholdMins': '0.00'}, 'taxiFareInfo': None, 'tripTime': {'chargeForWaitTimeEnabled': None, 'waitTimeThresholdSec': 120}, 'isCoupledUFP': False, 'total': 26.11, 'min': None, 'fareString': '$26.11', 'fareType': 'upfront_estimate', 'legalDisclaimer': 'You agree to pay the upfront price shown at booking. The upfront price is calculated using the base rate, plus the per-minute rate and/or per-mile rate. It may be adjusted due to <a href=\"https://www.uber.com/us/en/price-estimate/marketplace-factors/\">marketplace factors</a>, promotions, and/or other discounts, and includes <a href=\"https://www.uber.com/us/en/price-estimate/prices-explained/ \">applicable taxes, fees, surcharges and estimated tolls</a>. Additional charges, such as a wait-time fee, may be added to your upfront price. If the length or route of your trip changes, your upfront price may change based on the rates above and other applicable taxes, tolls, fees, and surcharges. Rates shown are rounded to 2 decimal points, while actual rates are set at 4 decimal points. In the US: rates used to calculate driver fares are published at  <a href=\"https://partners.uber.com\">partners.uber.com</a> and require an active partner account to view.<br>\\nAdditional surcharges may be applied when Uber Assist is requested from Uber Central or Uber Health dashboards.', 'locationSpecificDisclaimer': '', 'singleLocationSpecificDisclaimer': ''}, {'iso2': 'US', 'vehicleViewDisplayName': 'UberXL', 'vehicleViewId': 912, 'fare': {'autoOrManual': 'auto', 'calculationType': 'time_plus_distance', 'speedThresholdMps': 0, 'allowFareEstimate': True, 'tollsApply': True, 'gratuityAccepted': False, 'roundDown': False, 'flagThreshold': 600, 'minimum': 9.44, 'base': 0, 'perMinute': 0.7, 'uberServicePercent': 0.28, 'cancellation': 5, 'safeRideFee': 0, 'bookingFee': 0, 'serviceFeePercent': 0, 'perWaitMinute': 0.7, 'riderCancellation': 2, 'riderCancellationEnabled': False, 'perAdditionalPoolChainPickup': None, 'fareUnavailable': False, 'baseTimeMinutes': 30, 'outOfServiceAreaFee': 25, 'inNoParkingZoneFee': 5, 'freeLockFee': 10, 'privatePropertyLockFee': 10, 'lostLockFee': 25, 'stolenVehicleFee': 50, 'reservationFee': 0, 'fareType': 'time_plus_distance', 'isDistanceUnitMetric': False, 'perDistanceUnit': 2.11}, 'capacity': 1, 'currencyCode': 'USD', 'currencyLocale': 'en', 'advancedFare': {'enrouteFareEnabled': False, 'enrouteReverseFallbackScalar': None, 'enroutePerMinute': 0.7, 'enrouteFareCap': None, 'cancellationV2Enabled': True, 'cancellationGracePeriodThresholdSec': 120, 'cancellationGracePeriodLimitingEnabled': False, 'cancellationGracePeriodLimit': 2, 'driverCancelTimeThresholdSec': 300, 'minCancellation': 5, 'cancellationCap': 20, 'minDriverCancellation': 5, 'riderRemotePickupFareKickoffTimeThresholdSec': None, 'timeAndDistanceBasedCancelEnabled': True, 'enrouteFeeCoupledTiers': None, 'enroutePerDistanceUnit': 2.11, 'kickoffThresholdMins': '0.00'}, 'taxiFareInfo': None, 'tripTime': {'chargeForWaitTimeEnabled': True, 'waitTimeThresholdSec': 120}, 'isCoupledUFP': False, 'total': 29.11, 'min': None, 'fareString': '$29.11', 'fareType': 'upfront_estimate', 'legalDisclaimer': 'You agree to pay the upfront price shown at booking. The upfront price is calculated using the base rate, plus the per-minute rate and/or per-mile rate. It may be adjusted due to <a href=\"https://www.uber.com/us/en/price-estimate/marketplace-factors/\">marketplace factors</a>, promotions, and/or other discounts, and includes <a href=\"https://www.uber.com/us/en/price-estimate/prices-explained/ \">applicable taxes, fees, surcharges and estimated tolls</a>. Additional charges, such as a wait-time fee, may be added to your upfront price. If the length or route of your trip changes, your upfront price may change based on the rates above and other applicable taxes, tolls, fees, and surcharges. Rates shown are rounded to 2 decimal points, while actual rates are set at 4 decimal points. In the US: rates used to calculate driver fares are published at  <a href=\"https://partners.uber.com\">partners.uber.com</a> and require an active partner account to view.<br>\\nAdditional surcharges may be applied when Uber Assist is requested from Uber Central or Uber Health dashboards.', 'locationSpecificDisclaimer': '', 'singleLocationSpecificDisclaimer': ''}, {'iso2': 'US', 'vehicleViewDisplayName': 'Car Seat', 'vehicleViewId': 917, 'fare': {'autoOrManual': 'auto', 'calculationType': 'time_plus_distance', 'speedThresholdMps': 0, 'allowFareEstimate': True, 'tollsApply': True, 'gratuityAccepted': False, 'roundDown': False, 'flagThreshold': 400, 'minimum': 7.19, 'base': 0, 'perMinute': 0.67, 'uberServicePercent': 0.25, 'cancellation': 5, 'safeRideFee': 0, 'bookingFee': 0, 'serviceFeePercent': 0, 'perWaitMinute': 0.67, 'riderCancellation': 2, 'riderCancellationEnabled': False, 'perAdditionalPoolChainPickup': None, 'fareUnavailable': False, 'baseTimeMinutes': 30, 'outOfServiceAreaFee': 25, 'inNoParkingZoneFee': 5, 'freeLockFee': 10, 'privatePropertyLockFee': 10, 'lostLockFee': 25, 'stolenVehicleFee': 50, 'reservationFee': 0, 'fareType': 'time_plus_distance', 'isDistanceUnitMetric': False, 'perDistanceUnit': 1.48}, 'capacity': 1, 'currencyCode': 'USD', 'currencyLocale': 'en', 'advancedFare': {'enrouteFareEnabled': False, 'enrouteReverseFallbackScalar': None, 'enroutePerMinute': 0.67, 'enrouteFareCap': None, 'cancellationV2Enabled': True, 'cancellationGracePeriodThresholdSec': 120, 'cancellationGracePeriodLimitingEnabled': False, 'cancellationGracePeriodLimit': 2, 'driverCancelTimeThresholdSec': 300, 'minCancellation': 5, 'cancellationCap': 20, 'minDriverCancellation': 5, 'riderRemotePickupFareKickoffTimeThresholdSec': None, 'timeAndDistanceBasedCancelEnabled': True, 'enrouteFeeCoupledTiers': None, 'enroutePerDistanceUnit': 1.48, 'kickoffThresholdMins': '0.00'}, 'taxiFareInfo': None, 'tripTime': {'chargeForWaitTimeEnabled': None, 'waitTimeThresholdSec': 120}, 'isCoupledUFP': False, 'total': 37.25, 'min': None, 'fareString': '$37.25', 'fareType': 'upfront_estimate', 'legalDisclaimer': 'You agree to pay the upfront price shown at booking. The upfront price is calculated using the base rate, plus the per-minute rate and/or per-mile rate. It may be adjusted due to <a href=\"https://www.uber.com/us/en/price-estimate/marketplace-factors/\">marketplace factors</a>, promotions, and/or other discounts, and includes <a href=\"https://www.uber.com/us/en/price-estimate/prices-explained/ \">applicable taxes, fees, surcharges and estimated tolls</a>. Additional charges, such as a wait-time fee, may be added to your upfront price. If the length or route of your trip changes, your upfront price may change based on the rates above and other applicable taxes, tolls, fees, and surcharges. Rates shown are rounded to 2 decimal points, while actual rates are set at 4 decimal points. In the US: rates used to calculate driver fares are published at  <a href=\"https://partners.uber.com\">partners.uber.com</a> and require an active partner account to view.<br>\\nAdditional surcharges may be applied when Uber Assist is requested from Uber Central or Uber Health dashboards.', 'locationSpecificDisclaimer': '', 'singleLocationSpecificDisclaimer': ''}, {'iso2': 'US', 'vehicleViewDisplayName': 'Black', 'vehicleViewId': 4, 'fare': {'autoOrManual': 'auto', 'calculationType': 'time_plus_distance', 'speedThresholdMps': 0, 'allowFareEstimate': True, 'tollsApply': True, 'gratuityAccepted': False, 'roundDown': False, 'flagThreshold': 600, 'minimum': 14.15, 'base': 6.96, 'perMinute': 0.84, 'uberServicePercent': 0.25, 'cancellation': 10, 'safeRideFee': 0, 'bookingFee': 0, 'serviceFeePercent': 0, 'perWaitMinute': 0.84, 'riderCancellation': 2, 'riderCancellationEnabled': False, 'perAdditionalPoolChainPickup': None, 'fareUnavailable': False, 'baseTimeMinutes': 30, 'outOfServiceAreaFee': 25, 'inNoParkingZoneFee': 5, 'freeLockFee': 10, 'privatePropertyLockFee': 10, 'lostLockFee': 25, 'stolenVehicleFee': 50, 'reservationFee': 0, 'fareType': 'time_plus_distance', 'isDistanceUnitMetric': False, 'perDistanceUnit': 2.74}, 'capacity': 1, 'currencyCode': 'USD', 'currencyLocale': 'en', 'advancedFare': {'enrouteFareEnabled': False, 'enrouteReverseFallbackScalar': None, 'enroutePerMinute': None, 'enrouteFareCap': None, 'cancellationV2Enabled': True, 'cancellationGracePeriodThresholdSec': 300, 'cancellationGracePeriodLimitingEnabled': False, 'cancellationGracePeriodLimit': 2, 'driverCancelTimeThresholdSec': 900, 'minCancellation': 10, 'cancellationCap': 20, 'minDriverCancellation': 20, 'riderRemotePickupFareKickoffTimeThresholdSec': None, 'timeAndDistanceBasedCancelEnabled': False, 'enrouteFeeCoupledTiers': None, 'enroutePerDistanceUnit': 0, 'kickoffThresholdMins': '0.00'}, 'taxiFareInfo': None, 'tripTime': {'chargeForWaitTimeEnabled': True, 'waitTimeThresholdSec': 300}, 'isCoupledUFP': False, 'total': 44.29, 'min': None, 'fareString': '$44.29', 'fareType': 'upfront_estimate', 'legalDisclaimer': 'You agree to pay the upfront price shown at booking. The upfront price is calculated using the base rate, plus the per-minute rate and/or per-mile rate. It may be adjusted due to <a href=\"https://www.uber.com/us/en/price-estimate/marketplace-factors/\">marketplace factors</a>, promotions, and/or other discounts, and includes <a href=\"https://www.uber.com/us/en/price-estimate/prices-explained/ \">applicable taxes, fees, surcharges and estimated tolls</a>. Additional charges, such as a wait-time fee, may be added to your upfront price. If the length or route of your trip changes, your upfront price may change based on the rates above and other applicable taxes, tolls, fees, and surcharges. Rates shown are rounded to 2 decimal points, while actual rates are set at 4 decimal points. In the US: rates used to calculate driver fares are published at  <a href=\"https://partners.uber.com\">partners.uber.com</a> and require an active partner account to view.<br>\\nAdditional surcharges may be applied when Uber Assist is requested from Uber Central or Uber Health dashboards.', 'locationSpecificDisclaimer': '', 'singleLocationSpecificDisclaimer': ''}, {'iso2': 'US', 'vehicleViewDisplayName': 'Black SUV', 'vehicleViewId': 14, 'fare': {'autoOrManual': 'auto', 'calculationType': 'time_plus_distance', 'speedThresholdMps': 0, 'allowFareEstimate': True, 'tollsApply': True, 'gratuityAccepted': False, 'roundDown': False, 'flagThreshold': 800, 'minimum': 23.13, 'base': 13.25, 'perMinute': 1.19, 'uberServicePercent': 0.28, 'cancellation': 10, 'safeRideFee': 0, 'bookingFee': 0, 'serviceFeePercent': 0, 'perWaitMinute': 1.19, 'riderCancellation': 2, 'riderCancellationEnabled': False, 'perAdditionalPoolChainPickup': None, 'fareUnavailable': False, 'baseTimeMinutes': 30, 'outOfServiceAreaFee': 25, 'inNoParkingZoneFee': 5, 'freeLockFee': 10, 'privatePropertyLockFee': 10, 'lostLockFee': 25, 'stolenVehicleFee': 50, 'reservationFee': 0, 'fareType': 'time_plus_distance', 'isDistanceUnitMetric': False, 'perDistanceUnit': 4.04}, 'capacity': 1, 'currencyCode': 'USD', 'currencyLocale': 'en', 'advancedFare': {'enrouteFareEnabled': False, 'enrouteReverseFallbackScalar': None, 'enroutePerMinute': None, 'enrouteFareCap': None, 'cancellationV2Enabled': True, 'cancellationGracePeriodThresholdSec': 300, 'cancellationGracePeriodLimitingEnabled': False, 'cancellationGracePeriodLimit': 2, 'driverCancelTimeThresholdSec': 900, 'minCancellation': 10, 'cancellationCap': 25, 'minDriverCancellation': 25, 'riderRemotePickupFareKickoffTimeThresholdSec': None, 'timeAndDistanceBasedCancelEnabled': False, 'enrouteFeeCoupledTiers': None, 'enroutePerDistanceUnit': 0, 'kickoffThresholdMins': '0.00'}, 'taxiFareInfo': None, 'tripTime': {'chargeForWaitTimeEnabled': True, 'waitTimeThresholdSec': 300}, 'isCoupledUFP': False, 'total': 65.23, 'min': None, 'fareString': '$65.23', 'fareType': 'upfront_estimate', 'legalDisclaimer': 'You agree to pay the upfront price shown at booking. The upfront price is calculated using the base rate, plus the per-minute rate and/or per-mile rate. It may be adjusted due to <a href=\"https://www.uber.com/us/en/price-estimate/marketplace-factors/\">marketplace factors</a>, promotions, and/or other discounts, and includes <a href=\"https://www.uber.com/us/en/price-estimate/prices-explained/ \">applicable taxes, fees, surcharges and estimated tolls</a>. Additional charges, such as a wait-time fee, may be added to your upfront price. If the length or route of your trip changes, your upfront price may change based on the rates above and other applicable taxes, tolls, fees, and surcharges. Rates shown are rounded to 2 decimal points, while actual rates are set at 4 decimal points. In the US: rates used to calculate driver fares are published at  <a href=\"https://partners.uber.com\">partners.uber.com</a> and require an active partner account to view.<br>\\nAdditional surcharges may be applied when Uber Assist is requested from Uber Central or Uber Health dashboards.', 'locationSpecificDisclaimer': '', 'singleLocationSpecificDisclaimer': ''}], 'isDestinationWithinCA': False}}\n"
     ]
    }
   ],
   "source": [
    "print(json.loads(resp2.content))"
   ]
  },
  {
   "cell_type": "code",
   "execution_count": null,
   "metadata": {},
   "outputs": [],
   "source": []
  }
 ],
 "metadata": {
  "kernelspec": {
   "display_name": "Python 3",
   "language": "python",
   "name": "python3"
  },
  "language_info": {
   "codemirror_mode": {
    "name": "ipython",
    "version": 3
   },
   "file_extension": ".py",
   "mimetype": "text/x-python",
   "name": "python",
   "nbconvert_exporter": "python",
   "pygments_lexer": "ipython3",
   "version": "3.7.7"
  }
 },
 "nbformat": 4,
 "nbformat_minor": 4
}
